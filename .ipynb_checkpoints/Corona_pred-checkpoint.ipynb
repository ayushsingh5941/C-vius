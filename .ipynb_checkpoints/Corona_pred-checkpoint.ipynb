{
 "cells": [
  {
   "cell_type": "code",
   "execution_count": 1770,
   "metadata": {},
   "outputs": [],
   "source": [
    "import pandas as pd\n",
    "import numpy as np\n",
    "import seaborn as sns\n",
    "import matplotlib.pyplot as plt\n",
    "import random\n",
    "from sklearn.model_selection import train_test_split, GridSearchCV\n",
    "from sklearn.preprocessing import RobustScaler\n",
    "import category_encoders as ce\n",
    "from sklearn.pipeline import Pipeline\n",
    "from sklearn.linear_model import LogisticRegression\n",
    "from sklearn.metrics import classification_report, confusion_matrix\n",
    "from sklearn.svm import SVC"
   ]
  },
  {
   "cell_type": "code",
   "execution_count": 1771,
   "metadata": {},
   "outputs": [],
   "source": [
    "%matplotlib inline"
   ]
  },
  {
   "cell_type": "code",
   "execution_count": 1772,
   "metadata": {},
   "outputs": [],
   "source": [
    "seed = 42\n",
    "random.seed(seed)"
   ]
  },
  {
   "cell_type": "code",
   "execution_count": 1773,
   "metadata": {},
   "outputs": [
    {
     "data": {
      "text/plain": [
       "['bmh',\n",
       " 'classic',\n",
       " 'dark_background',\n",
       " 'fast',\n",
       " 'fivethirtyeight',\n",
       " 'ggplot',\n",
       " 'grayscale',\n",
       " 'seaborn-bright',\n",
       " 'seaborn-colorblind',\n",
       " 'seaborn-dark-palette',\n",
       " 'seaborn-dark',\n",
       " 'seaborn-darkgrid',\n",
       " 'seaborn-deep',\n",
       " 'seaborn-muted',\n",
       " 'seaborn-notebook',\n",
       " 'seaborn-paper',\n",
       " 'seaborn-pastel',\n",
       " 'seaborn-poster',\n",
       " 'seaborn-talk',\n",
       " 'seaborn-ticks',\n",
       " 'seaborn-white',\n",
       " 'seaborn-whitegrid',\n",
       " 'seaborn',\n",
       " 'Solarize_Light2',\n",
       " 'tableau-colorblind10',\n",
       " '_classic_test']"
      ]
     },
     "execution_count": 1773,
     "metadata": {},
     "output_type": "execute_result"
    }
   ],
   "source": [
    "import matplotlib.style as style\n",
    "style.available"
   ]
  },
  {
   "cell_type": "code",
   "execution_count": 1774,
   "metadata": {},
   "outputs": [],
   "source": [
    "style.use('tableau-colorblind10')"
   ]
  },
  {
   "cell_type": "markdown",
   "metadata": {},
   "source": [
    "# Importing Files"
   ]
  },
  {
   "cell_type": "code",
   "execution_count": 1775,
   "metadata": {},
   "outputs": [],
   "source": [
    "data = pd.read_csv('patient.csv')"
   ]
  },
  {
   "cell_type": "markdown",
   "metadata": {},
   "source": [
    "# Exploratory Data Analysis"
   ]
  },
  {
   "cell_type": "code",
   "execution_count": 1776,
   "metadata": {},
   "outputs": [],
   "source": [
    "data.drop('id', axis=1, inplace=True)"
   ]
  },
  {
   "cell_type": "code",
   "execution_count": 1777,
   "metadata": {},
   "outputs": [
    {
     "data": {
      "text/html": [
       "<div>\n",
       "<style scoped>\n",
       "    .dataframe tbody tr th:only-of-type {\n",
       "        vertical-align: middle;\n",
       "    }\n",
       "\n",
       "    .dataframe tbody tr th {\n",
       "        vertical-align: top;\n",
       "    }\n",
       "\n",
       "    .dataframe thead th {\n",
       "        text-align: right;\n",
       "    }\n",
       "</style>\n",
       "<table border=\"1\" class=\"dataframe\">\n",
       "  <thead>\n",
       "    <tr style=\"text-align: right;\">\n",
       "      <th></th>\n",
       "      <th>sex</th>\n",
       "      <th>birth_year</th>\n",
       "      <th>country</th>\n",
       "      <th>region</th>\n",
       "      <th>disease</th>\n",
       "      <th>group</th>\n",
       "      <th>infection_reason</th>\n",
       "      <th>infection_order</th>\n",
       "      <th>infected_by</th>\n",
       "      <th>contact_number</th>\n",
       "      <th>confirmed_date</th>\n",
       "      <th>released_date</th>\n",
       "      <th>deceased_date</th>\n",
       "      <th>state</th>\n",
       "    </tr>\n",
       "  </thead>\n",
       "  <tbody>\n",
       "    <tr>\n",
       "      <th>0</th>\n",
       "      <td>female</td>\n",
       "      <td>1984.0</td>\n",
       "      <td>China</td>\n",
       "      <td>filtered at airport</td>\n",
       "      <td>NaN</td>\n",
       "      <td>NaN</td>\n",
       "      <td>visit to Wuhan</td>\n",
       "      <td>1.0</td>\n",
       "      <td>NaN</td>\n",
       "      <td>45.0</td>\n",
       "      <td>2020-01-20</td>\n",
       "      <td>2020-02-06</td>\n",
       "      <td>NaN</td>\n",
       "      <td>released</td>\n",
       "    </tr>\n",
       "    <tr>\n",
       "      <th>1</th>\n",
       "      <td>male</td>\n",
       "      <td>1964.0</td>\n",
       "      <td>Korea</td>\n",
       "      <td>filtered at airport</td>\n",
       "      <td>NaN</td>\n",
       "      <td>NaN</td>\n",
       "      <td>visit to Wuhan</td>\n",
       "      <td>1.0</td>\n",
       "      <td>NaN</td>\n",
       "      <td>75.0</td>\n",
       "      <td>2020-01-24</td>\n",
       "      <td>2020-02-05</td>\n",
       "      <td>NaN</td>\n",
       "      <td>released</td>\n",
       "    </tr>\n",
       "    <tr>\n",
       "      <th>2</th>\n",
       "      <td>male</td>\n",
       "      <td>1966.0</td>\n",
       "      <td>Korea</td>\n",
       "      <td>capital area</td>\n",
       "      <td>NaN</td>\n",
       "      <td>NaN</td>\n",
       "      <td>visit to Wuhan</td>\n",
       "      <td>1.0</td>\n",
       "      <td>NaN</td>\n",
       "      <td>16.0</td>\n",
       "      <td>2020-01-26</td>\n",
       "      <td>2020-02-12</td>\n",
       "      <td>NaN</td>\n",
       "      <td>released</td>\n",
       "    </tr>\n",
       "    <tr>\n",
       "      <th>3</th>\n",
       "      <td>male</td>\n",
       "      <td>1964.0</td>\n",
       "      <td>Korea</td>\n",
       "      <td>capital area</td>\n",
       "      <td>NaN</td>\n",
       "      <td>NaN</td>\n",
       "      <td>visit to Wuhan</td>\n",
       "      <td>1.0</td>\n",
       "      <td>NaN</td>\n",
       "      <td>95.0</td>\n",
       "      <td>2020-01-27</td>\n",
       "      <td>2020-02-09</td>\n",
       "      <td>NaN</td>\n",
       "      <td>released</td>\n",
       "    </tr>\n",
       "    <tr>\n",
       "      <th>4</th>\n",
       "      <td>male</td>\n",
       "      <td>1987.0</td>\n",
       "      <td>Korea</td>\n",
       "      <td>capital area</td>\n",
       "      <td>NaN</td>\n",
       "      <td>NaN</td>\n",
       "      <td>visit to Wuhan</td>\n",
       "      <td>1.0</td>\n",
       "      <td>NaN</td>\n",
       "      <td>31.0</td>\n",
       "      <td>2020-01-30</td>\n",
       "      <td>2020-03-02</td>\n",
       "      <td>NaN</td>\n",
       "      <td>released</td>\n",
       "    </tr>\n",
       "  </tbody>\n",
       "</table>\n",
       "</div>"
      ],
      "text/plain": [
       "      sex  birth_year country               region  disease group  \\\n",
       "0  female      1984.0   China  filtered at airport      NaN   NaN   \n",
       "1    male      1964.0   Korea  filtered at airport      NaN   NaN   \n",
       "2    male      1966.0   Korea         capital area      NaN   NaN   \n",
       "3    male      1964.0   Korea         capital area      NaN   NaN   \n",
       "4    male      1987.0   Korea         capital area      NaN   NaN   \n",
       "\n",
       "  infection_reason  infection_order  infected_by  contact_number  \\\n",
       "0   visit to Wuhan              1.0          NaN            45.0   \n",
       "1   visit to Wuhan              1.0          NaN            75.0   \n",
       "2   visit to Wuhan              1.0          NaN            16.0   \n",
       "3   visit to Wuhan              1.0          NaN            95.0   \n",
       "4   visit to Wuhan              1.0          NaN            31.0   \n",
       "\n",
       "  confirmed_date released_date deceased_date     state  \n",
       "0     2020-01-20    2020-02-06           NaN  released  \n",
       "1     2020-01-24    2020-02-05           NaN  released  \n",
       "2     2020-01-26    2020-02-12           NaN  released  \n",
       "3     2020-01-27    2020-02-09           NaN  released  \n",
       "4     2020-01-30    2020-03-02           NaN  released  "
      ]
     },
     "execution_count": 1777,
     "metadata": {},
     "output_type": "execute_result"
    }
   ],
   "source": [
    "data.head()"
   ]
  },
  {
   "cell_type": "code",
   "execution_count": 1778,
   "metadata": {},
   "outputs": [
    {
     "name": "stdout",
     "output_type": "stream",
     "text": [
      "<class 'pandas.core.frame.DataFrame'>\n",
      "RangeIndex: 7134 entries, 0 to 7133\n",
      "Data columns (total 14 columns):\n",
      " #   Column            Non-Null Count  Dtype  \n",
      "---  ------            --------------  -----  \n",
      " 0   sex               430 non-null    object \n",
      " 1   birth_year        417 non-null    float64\n",
      " 2   country           7133 non-null   object \n",
      " 3   region            418 non-null    object \n",
      " 4   disease           26 non-null     float64\n",
      " 5   group             83 non-null     object \n",
      " 6   infection_reason  144 non-null    object \n",
      " 7   infection_order   35 non-null     float64\n",
      " 8   infected_by       70 non-null     float64\n",
      " 9   contact_number    50 non-null     float64\n",
      " 10  confirmed_date    7133 non-null   object \n",
      " 11  released_date     55 non-null     object \n",
      " 12  deceased_date     32 non-null     object \n",
      " 13  state             7133 non-null   object \n",
      "dtypes: float64(5), object(9)\n",
      "memory usage: 780.4+ KB\n"
     ]
    }
   ],
   "source": [
    "data.info()"
   ]
  },
  {
   "cell_type": "code",
   "execution_count": 1779,
   "metadata": {},
   "outputs": [
    {
     "data": {
      "text/html": [
       "<div>\n",
       "<style scoped>\n",
       "    .dataframe tbody tr th:only-of-type {\n",
       "        vertical-align: middle;\n",
       "    }\n",
       "\n",
       "    .dataframe tbody tr th {\n",
       "        vertical-align: top;\n",
       "    }\n",
       "\n",
       "    .dataframe thead th {\n",
       "        text-align: right;\n",
       "    }\n",
       "</style>\n",
       "<table border=\"1\" class=\"dataframe\">\n",
       "  <thead>\n",
       "    <tr style=\"text-align: right;\">\n",
       "      <th></th>\n",
       "      <th>birth_year</th>\n",
       "      <th>disease</th>\n",
       "      <th>infection_order</th>\n",
       "      <th>infected_by</th>\n",
       "      <th>contact_number</th>\n",
       "    </tr>\n",
       "  </thead>\n",
       "  <tbody>\n",
       "    <tr>\n",
       "      <th>count</th>\n",
       "      <td>417.000000</td>\n",
       "      <td>26.0</td>\n",
       "      <td>35.000000</td>\n",
       "      <td>70.000000</td>\n",
       "      <td>50.000000</td>\n",
       "    </tr>\n",
       "    <tr>\n",
       "      <th>mean</th>\n",
       "      <td>1973.474820</td>\n",
       "      <td>1.0</td>\n",
       "      <td>2.285714</td>\n",
       "      <td>379.000000</td>\n",
       "      <td>69.400000</td>\n",
       "    </tr>\n",
       "    <tr>\n",
       "      <th>std</th>\n",
       "      <td>18.157298</td>\n",
       "      <td>0.0</td>\n",
       "      <td>1.405272</td>\n",
       "      <td>540.247528</td>\n",
       "      <td>182.876338</td>\n",
       "    </tr>\n",
       "    <tr>\n",
       "      <th>min</th>\n",
       "      <td>1929.000000</td>\n",
       "      <td>1.0</td>\n",
       "      <td>1.000000</td>\n",
       "      <td>3.000000</td>\n",
       "      <td>0.000000</td>\n",
       "    </tr>\n",
       "    <tr>\n",
       "      <th>25%</th>\n",
       "      <td>1960.000000</td>\n",
       "      <td>1.0</td>\n",
       "      <td>1.000000</td>\n",
       "      <td>29.250000</td>\n",
       "      <td>3.000000</td>\n",
       "    </tr>\n",
       "    <tr>\n",
       "      <th>50%</th>\n",
       "      <td>1974.000000</td>\n",
       "      <td>1.0</td>\n",
       "      <td>2.000000</td>\n",
       "      <td>126.000000</td>\n",
       "      <td>15.500000</td>\n",
       "    </tr>\n",
       "    <tr>\n",
       "      <th>75%</th>\n",
       "      <td>1988.000000</td>\n",
       "      <td>1.0</td>\n",
       "      <td>3.000000</td>\n",
       "      <td>563.250000</td>\n",
       "      <td>44.500000</td>\n",
       "    </tr>\n",
       "    <tr>\n",
       "      <th>max</th>\n",
       "      <td>2018.000000</td>\n",
       "      <td>1.0</td>\n",
       "      <td>6.000000</td>\n",
       "      <td>2621.000000</td>\n",
       "      <td>1160.000000</td>\n",
       "    </tr>\n",
       "  </tbody>\n",
       "</table>\n",
       "</div>"
      ],
      "text/plain": [
       "        birth_year  disease  infection_order  infected_by  contact_number\n",
       "count   417.000000     26.0        35.000000    70.000000       50.000000\n",
       "mean   1973.474820      1.0         2.285714   379.000000       69.400000\n",
       "std      18.157298      0.0         1.405272   540.247528      182.876338\n",
       "min    1929.000000      1.0         1.000000     3.000000        0.000000\n",
       "25%    1960.000000      1.0         1.000000    29.250000        3.000000\n",
       "50%    1974.000000      1.0         2.000000   126.000000       15.500000\n",
       "75%    1988.000000      1.0         3.000000   563.250000       44.500000\n",
       "max    2018.000000      1.0         6.000000  2621.000000     1160.000000"
      ]
     },
     "execution_count": 1779,
     "metadata": {},
     "output_type": "execute_result"
    }
   ],
   "source": [
    "data.describe()"
   ]
  },
  {
   "cell_type": "code",
   "execution_count": 1780,
   "metadata": {},
   "outputs": [
    {
     "data": {
      "text/html": [
       "<div>\n",
       "<style scoped>\n",
       "    .dataframe tbody tr th:only-of-type {\n",
       "        vertical-align: middle;\n",
       "    }\n",
       "\n",
       "    .dataframe tbody tr th {\n",
       "        vertical-align: top;\n",
       "    }\n",
       "\n",
       "    .dataframe thead th {\n",
       "        text-align: right;\n",
       "    }\n",
       "</style>\n",
       "<table border=\"1\" class=\"dataframe\">\n",
       "  <thead>\n",
       "    <tr style=\"text-align: right;\">\n",
       "      <th></th>\n",
       "      <th>Total</th>\n",
       "      <th>Percent</th>\n",
       "    </tr>\n",
       "  </thead>\n",
       "  <tbody>\n",
       "    <tr>\n",
       "      <th>disease</th>\n",
       "      <td>7108</td>\n",
       "      <td>0.996355</td>\n",
       "    </tr>\n",
       "    <tr>\n",
       "      <th>deceased_date</th>\n",
       "      <td>7102</td>\n",
       "      <td>0.995514</td>\n",
       "    </tr>\n",
       "    <tr>\n",
       "      <th>infection_order</th>\n",
       "      <td>7099</td>\n",
       "      <td>0.995094</td>\n",
       "    </tr>\n",
       "    <tr>\n",
       "      <th>contact_number</th>\n",
       "      <td>7084</td>\n",
       "      <td>0.992991</td>\n",
       "    </tr>\n",
       "    <tr>\n",
       "      <th>released_date</th>\n",
       "      <td>7079</td>\n",
       "      <td>0.992290</td>\n",
       "    </tr>\n",
       "    <tr>\n",
       "      <th>infected_by</th>\n",
       "      <td>7064</td>\n",
       "      <td>0.990188</td>\n",
       "    </tr>\n",
       "    <tr>\n",
       "      <th>group</th>\n",
       "      <td>7051</td>\n",
       "      <td>0.988366</td>\n",
       "    </tr>\n",
       "    <tr>\n",
       "      <th>infection_reason</th>\n",
       "      <td>6990</td>\n",
       "      <td>0.979815</td>\n",
       "    </tr>\n",
       "    <tr>\n",
       "      <th>birth_year</th>\n",
       "      <td>6717</td>\n",
       "      <td>0.941548</td>\n",
       "    </tr>\n",
       "    <tr>\n",
       "      <th>region</th>\n",
       "      <td>6716</td>\n",
       "      <td>0.941407</td>\n",
       "    </tr>\n",
       "    <tr>\n",
       "      <th>sex</th>\n",
       "      <td>6704</td>\n",
       "      <td>0.939725</td>\n",
       "    </tr>\n",
       "    <tr>\n",
       "      <th>state</th>\n",
       "      <td>1</td>\n",
       "      <td>0.000140</td>\n",
       "    </tr>\n",
       "    <tr>\n",
       "      <th>confirmed_date</th>\n",
       "      <td>1</td>\n",
       "      <td>0.000140</td>\n",
       "    </tr>\n",
       "    <tr>\n",
       "      <th>country</th>\n",
       "      <td>1</td>\n",
       "      <td>0.000140</td>\n",
       "    </tr>\n",
       "  </tbody>\n",
       "</table>\n",
       "</div>"
      ],
      "text/plain": [
       "                  Total   Percent\n",
       "disease            7108  0.996355\n",
       "deceased_date      7102  0.995514\n",
       "infection_order    7099  0.995094\n",
       "contact_number     7084  0.992991\n",
       "released_date      7079  0.992290\n",
       "infected_by        7064  0.990188\n",
       "group              7051  0.988366\n",
       "infection_reason   6990  0.979815\n",
       "birth_year         6717  0.941548\n",
       "region             6716  0.941407\n",
       "sex                6704  0.939725\n",
       "state                 1  0.000140\n",
       "confirmed_date        1  0.000140\n",
       "country               1  0.000140"
      ]
     },
     "execution_count": 1780,
     "metadata": {},
     "output_type": "execute_result"
    }
   ],
   "source": [
    "# missing data\n",
    "total = data.isnull().sum().sort_values(ascending=False)\n",
    "percent = (data.isnull().sum() / data.isnull().count()).sort_values(ascending=False)\n",
    "missing_data = pd.concat([total, percent], axis=1, keys=['Total', 'Percent'])\n",
    "missing_data.head(20)"
   ]
  },
  {
   "cell_type": "code",
   "execution_count": 1781,
   "metadata": {
    "scrolled": true
   },
   "outputs": [
    {
     "name": "stdout",
     "output_type": "stream",
     "text": [
      "\n"
     ]
    },
    {
     "data": {
      "image/png": "[encoded data removed]",
      "text/plain": [
       "<Figure size 1440x360 with 1 Axes>"
      ]
     },
     "metadata": {
      "needs_background": "light"
     },
     "output_type": "display_data"
    }
   ],
   "source": [
    "fig = plt.figure(figsize=(20, 5))\n",
    "missing_plt = sns.barplot(x=missing_data.index, y=missing_data.Percent)\n",
    "missing_plt.set_xticklabels(missing_plt.get_xticklabels(), rotation=45)\n",
    "print()"
   ]
  },
  {
   "cell_type": "markdown",
   "metadata": {},
   "source": [
    "It is clear that our dataset cointains huge amount of null values and we need to deal with it.<br>\n",
    "99 to 93% data is missing in all the major features."
   ]
  },
  {
   "cell_type": "code",
   "execution_count": 1782,
   "metadata": {},
   "outputs": [
    {
     "name": "stdout",
     "output_type": "stream",
     "text": [
      "[female    217\n",
      "male      213\n",
      "Name: sex, dtype: int64, 1985.0    24\n",
      "1997.0    12\n",
      "1956.0    12\n",
      "1996.0    11\n",
      "1995.0    10\n",
      "          ..\n",
      "1952.0     1\n",
      "2007.0     1\n",
      "2003.0     1\n",
      "1933.0     1\n",
      "1939.0     1\n",
      "Name: birth_year, Length: 79, dtype: int64, Korea       7124\n",
      "China          8\n",
      "Mongolia       1\n",
      "Name: country, dtype: int64, capital area           191\n",
      "Gyeongsangbuk-do       126\n",
      "Daegu                   53\n",
      "Daejeon                 13\n",
      "Gwangju                 11\n",
      "Gangwon-do               5\n",
      "filtered at airport      4\n",
      "Jeollabuk-do             3\n",
      "Jeollanam-do             3\n",
      "Busan                    2\n",
      "Ulsan                    2\n",
      "Chungcheongbuk-do        2\n",
      "Jeju-do                  2\n",
      "Chungcheongnam-do        1\n",
      "Name: region, dtype: int64, 1.0    26\n",
      "Name: disease, dtype: int64, Shincheonji Church               53\n",
      "Eunpyeong St. Mary's Hospital    13\n",
      "Cheongdo Daenam Hospital          9\n",
      "Pilgrimage                        6\n",
      "Onchun Church                     1\n",
      "Myungsung church                  1\n",
      "Name: group, dtype: int64, contact with patient                 75\n",
      "visit to Daegu                       43\n",
      "visit to Wuhan                        8\n",
      "pilgrimage to Israel                  6\n",
      "residence in Wuhan                    2\n",
      "visit to China                        2\n",
      "contact with patient in Singapore     2\n",
      "visit to Thailand                     2\n",
      "visit to Japan                        1\n",
      "visit to Vietnam                      1\n",
      "contact with patient in Japan         1\n",
      "visit to Italy                        1\n",
      "Name: infection_reason, dtype: int64, 1.0    13\n",
      "2.0    10\n",
      "3.0     6\n",
      "5.0     3\n",
      "4.0     2\n",
      "6.0     1\n",
      "Name: infection_order, dtype: int64, 31.0      8\n",
      "6.0       5\n",
      "126.0     3\n",
      "780.0     3\n",
      "372.0     3\n",
      "3.0       2\n",
      "246.0     2\n",
      "335.0     2\n",
      "794.0     2\n",
      "1252.0    2\n",
      "83.0      2\n",
      "161.0     2\n",
      "27.0      2\n",
      "15.0      2\n",
      "16.0      2\n",
      "1532.0    2\n",
      "230.0     2\n",
      "20.0      1\n",
      "4.0       1\n",
      "40.0      1\n",
      "56.0      1\n",
      "30.0      1\n",
      "44.0      1\n",
      "12.0      1\n",
      "5.0       1\n",
      "113.0     1\n",
      "1247.0    1\n",
      "1251.0    1\n",
      "164.0     1\n",
      "121.0     1\n",
      "938.0     1\n",
      "627.0     1\n",
      "835.0     1\n",
      "188.0     1\n",
      "29.0      1\n",
      "136.0     1\n",
      "1177.0    1\n",
      "347.0     1\n",
      "1257.0    1\n",
      "2621.0    1\n",
      "1768.0    1\n",
      "Name: infected_by, dtype: int64, 2.0       5\n",
      "0.0       4\n",
      "1.0       3\n",
      "23.0      3\n",
      "14.0      2\n",
      "9.0       2\n",
      "3.0       2\n",
      "8.0       2\n",
      "95.0      1\n",
      "30.0      1\n",
      "40.0      1\n",
      "12.0      1\n",
      "15.0      1\n",
      "6.0       1\n",
      "11.0      1\n",
      "17.0      1\n",
      "16.0      1\n",
      "5.0       1\n",
      "20.0      1\n",
      "43.0      1\n",
      "113.0     1\n",
      "61.0      1\n",
      "65.0      1\n",
      "47.0      1\n",
      "75.0      1\n",
      "422.0     1\n",
      "31.0      1\n",
      "39.0      1\n",
      "68.0      1\n",
      "27.0      1\n",
      "450.0     1\n",
      "117.0     1\n",
      "290.0     1\n",
      "1160.0    1\n",
      "45.0      1\n",
      "Name: contact_number, dtype: int64, 2020-03-01    1062\n",
      "2020-02-29     813\n",
      "2020-03-02     600\n",
      "2020-02-28     571\n",
      "2020-03-05     518\n",
      "2020-03-03     516\n",
      "2020-02-27     505\n",
      "2020-03-06     483\n",
      "2020-03-04     438\n",
      "2020-03-07     367\n",
      "2020-02-26     285\n",
      "2020-02-24     231\n",
      "2020-02-22     229\n",
      "2020-02-23     169\n",
      "2020-02-25     143\n",
      "2020-02-21     100\n",
      "2020-02-20      38\n",
      "2020-02-19      26\n",
      "2020-02-18       9\n",
      "2020-02-05       5\n",
      "2020-01-31       4\n",
      "2020-02-02       3\n",
      "2020-01-30       3\n",
      "2020-02-09       3\n",
      "2020-02-06       3\n",
      "2020-02-16       2\n",
      "2020-01-24       1\n",
      "2020-02-10       1\n",
      "2020-02-04       1\n",
      "2020-01-26       1\n",
      "2020-01-20       1\n",
      "2020-02-01       1\n",
      "2020-01-27       1\n",
      "Name: confirmed_date, dtype: int64, 2020-03-04    11\n",
      "2020-03-03     7\n",
      "2020-02-27     4\n",
      "2020-02-24     4\n",
      "2020-02-19     4\n",
      "2020-03-05     3\n",
      "2020-03-02     3\n",
      "2020-02-12     3\n",
      "2020-02-26     2\n",
      "2020-02-29     2\n",
      "2020-02-18     2\n",
      "2020-02-15     2\n",
      "2020-03-01     1\n",
      "2020-02-05     1\n",
      "2020-02-09     1\n",
      "2020-02-06     1\n",
      "2020-02-17     1\n",
      "2020-02-10     1\n",
      "2020-02-21     1\n",
      "2020-02-28     1\n",
      "Name: released_date, dtype: int64, 2020-03-05    6\n",
      "2020-02-23    4\n",
      "2020-03-04    4\n",
      "2020-03-01    4\n",
      "2020-03-02    3\n",
      "2020-02-24    2\n",
      "2020-02-25    2\n",
      "2020-02-21    1\n",
      "2020-03-06    1\n",
      "2020-02-27    1\n",
      "2020-03-03    1\n",
      "2020-02-26    1\n",
      "2020-02-19    1\n",
      "2020-02-22    1\n",
      "Name: deceased_date, dtype: int64, isolated    7047\n",
      "released      55\n",
      "deceased      31\n",
      "Name: state, dtype: int64]\n"
     ]
    }
   ],
   "source": [
    "print([pd.value_counts(data[cols]) for cols in data.columns])"
   ]
  },
  {
   "cell_type": "markdown",
   "metadata": {},
   "source": [
    "<h2> Imputing Missing Values </h2>"
   ]
  },
  {
   "cell_type": "markdown",
   "metadata": {},
   "source": [
    "Imputing missing values in a dataset is a laborious task some times it renders data useless. Here we will try to clean data 1 by 1.<br>\n",
    "Generally it is recomended to drop rows containig more than 50% empty values but in this case removing those data will lead to shrinkage of dataset to point where it is not useable.\n",
    "Firstly we will remove data that are not relevant or not very useful to us.<br>"
   ]
  },
  {
   "cell_type": "markdown",
   "metadata": {},
   "source": [
    "<h4> Sex </h4>"
   ]
  },
  {
   "cell_type": "code",
   "execution_count": 1783,
   "metadata": {},
   "outputs": [
    {
     "name": "stdout",
     "output_type": "stream",
     "text": [
      "No. of NA values in Sex: 6704\n"
     ]
    }
   ],
   "source": [
    "print('No. of NA values in Sex:', data['sex'].isna().sum())"
   ]
  },
  {
   "cell_type": "markdown",
   "metadata": {},
   "source": [
    "Sex have most no. of data besides having 93% missing values, so we will start droping all other data where gender is missing."
   ]
  },
  {
   "cell_type": "code",
   "execution_count": 1784,
   "metadata": {},
   "outputs": [],
   "source": [
    "data_cleaned = data.dropna(axis=0, subset=['sex'])"
   ]
  },
  {
   "cell_type": "markdown",
   "metadata": {},
   "source": [
    "<h4>Birth_Year</h4>\n",
    "<br>\n",
    "    Birth year have some missing values and we will fill it up with mean."
   ]
  },
  {
   "cell_type": "code",
   "execution_count": 1785,
   "metadata": {},
   "outputs": [
    {
     "name": "stderr",
     "output_type": "stream",
     "text": [
      "C:\\Users\\Ayush\\Anaconda3\\lib\\site-packages\\pandas\\core\\generic.py:6245: SettingWithCopyWarning: \n",
      "A value is trying to be set on a copy of a slice from a DataFrame\n",
      "\n",
      "See the caveats in the documentation: https://pandas.pydata.org/pandas-docs/stable/user_guide/indexing.html#returning-a-view-versus-a-copy\n",
      "  self._update_inplace(new_data)\n"
     ]
    }
   ],
   "source": [
    "data_cleaned['birth_year'].fillna(1973.0, inplace=True)"
   ]
  },
  {
   "cell_type": "markdown",
   "metadata": {},
   "source": [
    "<h4>Region</h4>\n",
    "Region field has 18 missing field. Region field is not important for us if we want to make predictions but it will be useful for plotting data on map. For now we will remove region column."
   ]
  },
  {
   "cell_type": "code",
   "execution_count": 1786,
   "metadata": {},
   "outputs": [],
   "source": [
    "data_cleaned = data_cleaned.drop('region', axis=1)"
   ]
  },
  {
   "cell_type": "markdown",
   "metadata": {},
   "source": [
    "<h4>Disease</h4>\n",
    "<br>\n",
    "Disease column have null value where it patient does not have any disease, hence we will impute it with 0.0."
   ]
  },
  {
   "cell_type": "code",
   "execution_count": 1787,
   "metadata": {},
   "outputs": [],
   "source": [
    "data_cleaned['disease'].fillna(0.0, inplace=True)"
   ]
  },
  {
   "cell_type": "markdown",
   "metadata": {},
   "source": [
    "<h4>Group</h4>\n",
    "<br>\n",
    "Group would have been useful if had no missing values because it could have been treated as bins, but as of now it serves no purpose to us. Let's remove group."
   ]
  },
  {
   "cell_type": "code",
   "execution_count": 1788,
   "metadata": {},
   "outputs": [],
   "source": [
    "data_cleaned = data_cleaned.drop('group', axis=1)"
   ]
  },
  {
   "cell_type": "markdown",
   "metadata": {},
   "source": [
    "<h4>Infection Reason </h4>\n",
    "Infection reason seems like an important categorical feature, we will simply impute reason as unknown where it is null in dataset."
   ]
  },
  {
   "cell_type": "code",
   "execution_count": 1789,
   "metadata": {},
   "outputs": [],
   "source": [
    "data_cleaned['infection_reason'].fillna('Unknown', inplace=True)"
   ]
  },
  {
   "cell_type": "markdown",
   "metadata": {},
   "source": [
    "<h4>Infection Order, Infected By, Contact Number, Released Date and Deceased Date</h4>\n",
    "It contains very low amount of data it's better to get rid of these features."
   ]
  },
  {
   "cell_type": "code",
   "execution_count": 1790,
   "metadata": {},
   "outputs": [],
   "source": [
    "data_cleaned = data_cleaned.drop(['infected_by','infection_order', 'contact_number', 'released_date', 'deceased_date'], axis=1)"
   ]
  },
  {
   "cell_type": "code",
   "execution_count": 1791,
   "metadata": {},
   "outputs": [
    {
     "data": {
      "text/html": [
       "<div>\n",
       "<style scoped>\n",
       "    .dataframe tbody tr th:only-of-type {\n",
       "        vertical-align: middle;\n",
       "    }\n",
       "\n",
       "    .dataframe tbody tr th {\n",
       "        vertical-align: top;\n",
       "    }\n",
       "\n",
       "    .dataframe thead th {\n",
       "        text-align: right;\n",
       "    }\n",
       "</style>\n",
       "<table border=\"1\" class=\"dataframe\">\n",
       "  <thead>\n",
       "    <tr style=\"text-align: right;\">\n",
       "      <th></th>\n",
       "      <th>sex</th>\n",
       "      <th>birth_year</th>\n",
       "      <th>country</th>\n",
       "      <th>disease</th>\n",
       "      <th>infection_reason</th>\n",
       "      <th>confirmed_date</th>\n",
       "      <th>state</th>\n",
       "    </tr>\n",
       "  </thead>\n",
       "  <tbody>\n",
       "    <tr>\n",
       "      <th>0</th>\n",
       "      <td>female</td>\n",
       "      <td>1984.0</td>\n",
       "      <td>China</td>\n",
       "      <td>0.0</td>\n",
       "      <td>visit to Wuhan</td>\n",
       "      <td>2020-01-20</td>\n",
       "      <td>released</td>\n",
       "    </tr>\n",
       "    <tr>\n",
       "      <th>1</th>\n",
       "      <td>male</td>\n",
       "      <td>1964.0</td>\n",
       "      <td>Korea</td>\n",
       "      <td>0.0</td>\n",
       "      <td>visit to Wuhan</td>\n",
       "      <td>2020-01-24</td>\n",
       "      <td>released</td>\n",
       "    </tr>\n",
       "    <tr>\n",
       "      <th>2</th>\n",
       "      <td>male</td>\n",
       "      <td>1966.0</td>\n",
       "      <td>Korea</td>\n",
       "      <td>0.0</td>\n",
       "      <td>visit to Wuhan</td>\n",
       "      <td>2020-01-26</td>\n",
       "      <td>released</td>\n",
       "    </tr>\n",
       "    <tr>\n",
       "      <th>3</th>\n",
       "      <td>male</td>\n",
       "      <td>1964.0</td>\n",
       "      <td>Korea</td>\n",
       "      <td>0.0</td>\n",
       "      <td>visit to Wuhan</td>\n",
       "      <td>2020-01-27</td>\n",
       "      <td>released</td>\n",
       "    </tr>\n",
       "    <tr>\n",
       "      <th>4</th>\n",
       "      <td>male</td>\n",
       "      <td>1987.0</td>\n",
       "      <td>Korea</td>\n",
       "      <td>0.0</td>\n",
       "      <td>visit to Wuhan</td>\n",
       "      <td>2020-01-30</td>\n",
       "      <td>released</td>\n",
       "    </tr>\n",
       "  </tbody>\n",
       "</table>\n",
       "</div>"
      ],
      "text/plain": [
       "      sex  birth_year country  disease infection_reason confirmed_date  \\\n",
       "0  female      1984.0   China      0.0   visit to Wuhan     2020-01-20   \n",
       "1    male      1964.0   Korea      0.0   visit to Wuhan     2020-01-24   \n",
       "2    male      1966.0   Korea      0.0   visit to Wuhan     2020-01-26   \n",
       "3    male      1964.0   Korea      0.0   visit to Wuhan     2020-01-27   \n",
       "4    male      1987.0   Korea      0.0   visit to Wuhan     2020-01-30   \n",
       "\n",
       "      state  \n",
       "0  released  \n",
       "1  released  \n",
       "2  released  \n",
       "3  released  \n",
       "4  released  "
      ]
     },
     "execution_count": 1791,
     "metadata": {},
     "output_type": "execute_result"
    }
   ],
   "source": [
    "data_cleaned.head()"
   ]
  },
  {
   "cell_type": "code",
   "execution_count": 1792,
   "metadata": {},
   "outputs": [
    {
     "name": "stdout",
     "output_type": "stream",
     "text": [
      "<class 'pandas.core.frame.DataFrame'>\n",
      "Int64Index: 430 entries, 0 to 6284\n",
      "Data columns (total 7 columns):\n",
      " #   Column            Non-Null Count  Dtype  \n",
      "---  ------            --------------  -----  \n",
      " 0   sex               430 non-null    object \n",
      " 1   birth_year        430 non-null    float64\n",
      " 2   country           430 non-null    object \n",
      " 3   disease           430 non-null    float64\n",
      " 4   infection_reason  430 non-null    object \n",
      " 5   confirmed_date    430 non-null    object \n",
      " 6   state             430 non-null    object \n",
      "dtypes: float64(2), object(5)\n",
      "memory usage: 26.9+ KB\n"
     ]
    }
   ],
   "source": [
    "data_cleaned.info()"
   ]
  },
  {
   "cell_type": "markdown",
   "metadata": {},
   "source": [
    "<br>\n",
    "By removing all the cluter and irrelevant data we are left with very samll but properly cleand dataset. Now we can analyze data, introduce new relevant features and make infrences about it. most of the data is categorical in nature.<br>\n",
    "Let's get familiar with data."
   ]
  },
  {
   "cell_type": "markdown",
   "metadata": {},
   "source": [
    "# Data Visualization"
   ]
  },
  {
   "cell_type": "code",
   "execution_count": null,
   "metadata": {},
   "outputs": [],
   "source": []
  },
  {
   "cell_type": "markdown",
   "metadata": {},
   "source": [
    "<h3>Gender</h3>\n",
    "Gender have only two column male and female we will analyze data on the basis of gender to understand effect of deadly corona virus on both males and females"
   ]
  },
  {
   "cell_type": "code",
   "execution_count": 1793,
   "metadata": {},
   "outputs": [
    {
     "data": {
      "image/png": "[encoded data removed]",
      "text/plain": [
       "<Figure size 432x288 with 1 Axes>"
      ]
     },
     "metadata": {
      "needs_background": "light"
     },
     "output_type": "display_data"
    }
   ],
   "source": [
    "gender_count_plt = sns.countplot(data_cleaned['sex'], )\n",
    "gender_count_plt.set_title('Gender Count')\n",
    "plt.show()"
   ]
  },
  {
   "cell_type": "code",
   "execution_count": 1794,
   "metadata": {},
   "outputs": [
    {
     "data": {
      "image/png": "[encoded data removed]",
      "text/plain": [
       "<Figure size 432x288 with 1 Axes>"
      ]
     },
     "metadata": {
      "needs_background": "light"
     },
     "output_type": "display_data"
    }
   ],
   "source": [
    "gender_vs_state_plt = sns.countplot(x='sex', hue='state', data=data_cleaned)\n",
    "gender_count_plt.set_title('Gender VS State')\n",
    "plt.show()"
   ]
  },
  {
   "cell_type": "markdown",
   "metadata": {},
   "source": [
    "Above plots indidcates that both males and females got equally affected by the virus. With males slightly more than the females. Currently more females are kept isolated than men. Data also shows that although recovery in both males and females are almost identical but more males are deceased due to virus than compared to women."
   ]
  },
  {
   "cell_type": "markdown",
   "metadata": {},
   "source": [
    "<h3> Birth Year </h3>\n",
    "<br>\n",
    "Birth year will alow us to see which age group is more vulnerable to this deadly virus."
   ]
  },
  {
   "cell_type": "markdown",
   "metadata": {},
   "source": [
    "Let's add an age column to plot data easily."
   ]
  },
  {
   "cell_type": "code",
   "execution_count": 1795,
   "metadata": {},
   "outputs": [],
   "source": [
    "data_cleaned['age'] = 2019 - data_cleaned['birth_year']\n",
    "data_cleaned['age_bin'] = (data_cleaned['age'] // 10) * 10\n",
    "data_cleaned = data_cleaned.drop('birth_year', axis=1)"
   ]
  },
  {
   "cell_type": "code",
   "execution_count": 1796,
   "metadata": {},
   "outputs": [
    {
     "data": {
      "text/plain": [
       "<matplotlib.axes._subplots.AxesSubplot at 0x22773f2a488>"
      ]
     },
     "execution_count": 1796,
     "metadata": {},
     "output_type": "execute_result"
    },
    {
     "data": {
      "image/png": "[encoded data removed]",
      "text/plain": [
       "<Figure size 432x288 with 1 Axes>"
      ]
     },
     "metadata": {
      "needs_background": "light"
     },
     "output_type": "display_data"
    }
   ],
   "source": [
    "sns.distplot(data_cleaned['age_bin'])"
   ]
  },
  {
   "cell_type": "code",
   "execution_count": 1797,
   "metadata": {},
   "outputs": [
    {
     "data": {
      "text/plain": [
       "<matplotlib.legend.Legend at 0x2276c005b08>"
      ]
     },
     "execution_count": 1797,
     "metadata": {},
     "output_type": "execute_result"
    },
    {
     "data": {
      "image/png": "[encoded data removed]",
      "text/plain": [
       "<Figure size 1800x720 with 1 Axes>"
      ]
     },
     "metadata": {
      "needs_background": "light"
     },
     "output_type": "display_data"
    }
   ],
   "source": [
    "plt.figure(figsize=(25, 10))\n",
    "age_sex_plt = sns.countplot(x='age', hue='sex', data=data_cleaned)\n",
    "age_sex_plt.set_xticklabels(age_sex_plt.get_xticklabels(), rotation=-45)\n",
    "age_sex_plt.legend(loc='upper right')"
   ]
  },
  {
   "cell_type": "code",
   "execution_count": 1798,
   "metadata": {},
   "outputs": [
    {
     "data": {
      "text/plain": [
       "<matplotlib.legend.Legend at 0x22778b03208>"
      ]
     },
     "execution_count": 1798,
     "metadata": {},
     "output_type": "execute_result"
    },
    {
     "data": {
      "image/png": "[encoded data removed]",
      "text/plain": [
       "<Figure size 1800x432 with 1 Axes>"
      ]
     },
     "metadata": {
      "needs_background": "light"
     },
     "output_type": "display_data"
    }
   ],
   "source": [
    "plt.figure(figsize=(25, 6))\n",
    "age_sex_plt1 = sns.countplot(x='age_bin', hue='sex', data=data_cleaned)\n",
    "age_sex_plt1.set_xticklabels(age_sex_plt1.get_xticklabels(), rotation=-45)\n",
    "age_sex_plt1.legend(loc='upper right')\n"
   ]
  },
  {
   "cell_type": "code",
   "execution_count": 1799,
   "metadata": {},
   "outputs": [
    {
     "data": {
      "text/plain": [
       "Text(0.5, 1.0, 'Age VS State')"
      ]
     },
     "execution_count": 1799,
     "metadata": {},
     "output_type": "execute_result"
    },
    {
     "data": {
      "image/png": "[encoded data removed]",
      "text/plain": [
       "<Figure size 1800x432 with 1 Axes>"
      ]
     },
     "metadata": {
      "needs_background": "light"
     },
     "output_type": "display_data"
    }
   ],
   "source": [
    "plt.figure(figsize=(25, 6))\n",
    "age_state_plt = sns.countplot(x='age_bin', hue='state', data=data_cleaned)\n",
    "age_state_plt.set_xticklabels(age_state_plt.get_xticklabels(), rotation=-45)\n",
    "age_state_plt.legend(loc='upper right')\n",
    "age_state_plt.set_title('Age VS State')"
   ]
  },
  {
   "cell_type": "code",
   "execution_count": 1800,
   "metadata": {},
   "outputs": [
    {
     "data": {
      "text/plain": [
       "<matplotlib.axes._subplots.AxesSubplot at 0x22775f26b48>"
      ]
     },
     "execution_count": 1800,
     "metadata": {},
     "output_type": "execute_result"
    },
    {
     "data": {
      "image/png": "[encoded data removed]",
      "text/plain": [
       "<Figure size 432x288 with 1 Axes>"
      ]
     },
     "metadata": {
      "needs_background": "light"
     },
     "output_type": "display_data"
    }
   ],
   "source": [
    "sns.countplot(data_cleaned['state'])"
   ]
  },
  {
   "cell_type": "markdown",
   "metadata": {},
   "source": [
    "Most of the people infected by corona virus are in there 50's with higher females at higher risk than male, followed by 30's and 40's where male are more prone to risk in there 30's and female in there's 40.<br>\n",
    "Older males are at higher risk whereas younger females are at higher risk of getting corona virus.<br>\n",
    "Fatality in older age is quite higher there is gradual increase in mortatlity rate as age of patient increase. This shows that older people have lower chances of surviving.<br>\n",
    "Till now most of the people are isolated it will be harder to predict state of patient as currently, only 55 people were released, 31 were dead and 344 are still isolated. Original data have much higher isolated values.<br>\n",
    "Note: As dataset was not clean hence this data is not totally complete this infrences are only made on this dataset, It is assumed that this dataset represents overall trends on actual data."
   ]
  },
  {
   "cell_type": "markdown",
   "metadata": {},
   "source": [
    "<h3>Infection Reason</h3>\n",
    "Infection reason seems like an interesting feature to explore."
   ]
  },
  {
   "cell_type": "code",
   "execution_count": 1801,
   "metadata": {},
   "outputs": [
    {
     "data": {
      "image/png": "[encoded data removed]",
      "text/plain": [
       "<Figure size 1440x360 with 1 Axes>"
      ]
     },
     "metadata": {
      "needs_background": "light"
     },
     "output_type": "display_data"
    }
   ],
   "source": [
    "plt.figure(figsize=(20, 5))\n",
    "infection_reason_plt = sns.countplot(data['infection_reason'])\n",
    "infection_reason_plt.set_xticklabels(infection_reason_plt.get_xticklabels(), rotation=-45)\n",
    "plt.show()"
   ]
  },
  {
   "cell_type": "code",
   "execution_count": 1802,
   "metadata": {},
   "outputs": [
    {
     "data": {
      "image/png": "[encoded data removed]",
      "text/plain": [
       "<Figure size 1440x360 with 1 Axes>"
      ]
     },
     "metadata": {
      "needs_background": "light"
     },
     "output_type": "display_data"
    }
   ],
   "source": [
    "plt.figure(figsize=(20, 5))\n",
    "infection_reason_plt1 = sns.countplot(data_cleaned['infection_reason'])\n",
    "infection_reason_plt1.set_xticklabels(infection_reason_plt1.get_xticklabels(), rotation=-45)\n",
    "plt.show()"
   ]
  },
  {
   "cell_type": "code",
   "execution_count": 1803,
   "metadata": {},
   "outputs": [
    {
     "name": "stdout",
     "output_type": "stream",
     "text": [
      "\n"
     ]
    },
    {
     "data": {
      "image/png": "[encoded data removed]",
      "text/plain": [
       "<Figure size 1440x360 with 1 Axes>"
      ]
     },
     "metadata": {
      "needs_background": "light"
     },
     "output_type": "display_data"
    }
   ],
   "source": [
    "plt.figure(figsize=(20, 5))\n",
    "reason_age_plt = sns.countplot(x='age_bin', hue='infection_reason', data=data_cleaned)\n",
    "reason_age_plt.set_xticklabels(reason_age_plt.get_xticklabels(), rotation=-45)\n",
    "reason_age_plt.legend(loc='upper right')\n",
    "print()"
   ]
  },
  {
   "cell_type": "code",
   "execution_count": 1804,
   "metadata": {},
   "outputs": [
    {
     "name": "stdout",
     "output_type": "stream",
     "text": [
      "\n"
     ]
    },
    {
     "data": {
      "image/png": "[encoded data removed]",
      "text/plain": [
       "<Figure size 1440x360 with 1 Axes>"
      ]
     },
     "metadata": {
      "needs_background": "light"
     },
     "output_type": "display_data"
    }
   ],
   "source": [
    "plt.figure(figsize=(20, 5))\n",
    "reason_age_plt = sns.countplot(x=data_cleaned['age_bin'], hue=data['infection_reason'])\n",
    "reason_age_plt.set_xticklabels(reason_age_plt.get_xticklabels(), rotation=-45)\n",
    "reason_age_plt.legend(loc='upper right')\n",
    "print()"
   ]
  },
  {
   "cell_type": "code",
   "execution_count": 1805,
   "metadata": {},
   "outputs": [
    {
     "name": "stdout",
     "output_type": "stream",
     "text": [
      "\n"
     ]
    },
    {
     "data": {
      "image/png": "[encoded data removed]",
      "text/plain": [
       "<Figure size 1440x360 with 1 Axes>"
      ]
     },
     "metadata": {
      "needs_background": "light"
     },
     "output_type": "display_data"
    }
   ],
   "source": [
    "plt.figure(figsize=(20, 5))\n",
    "reason_age_plt = sns.countplot(x=data_cleaned['infection_reason'], hue=data_cleaned['state'])\n",
    "reason_age_plt.set_xticklabels(reason_age_plt.get_xticklabels(), rotation=-45)\n",
    "reason_age_plt.legend(loc='upper right')\n",
    "print()"
   ]
  },
  {
   "cell_type": "markdown",
   "metadata": {},
   "source": [
    "Due to high unknown reason for a patient to get virus, plots got distorted so we will analyse data with and without unknow reason to better understand it.<br>\n",
    "From above plot, Reason how patient got virus is mostly unknow for more than 275 patients.<br>\n",
    "Apart from the unknown reason, patinets are mostly affected due to contact with another person. As this virus is highly contagious this seems like obvious reason. Another reasons includes visiting to places where virus is already spreading.\n",
    "<br>\n",
    "<br>\n",
    "Getting infected due to pilgrimage is quite concerning as in Israel virus is not that prevalent yet <b> Pilgrimage have high risk</b> of spreading virus. <b> <br> We should definately avoid mass gathering. </b>"
   ]
  },
  {
   "cell_type": "markdown",
   "metadata": {},
   "source": [
    "<h3>Disease</h3>\n",
    "Underlying disease can be usefull to know effect of virus on patient with some underlying diseases."
   ]
  },
  {
   "cell_type": "code",
   "execution_count": 1806,
   "metadata": {},
   "outputs": [
    {
     "data": {
      "image/png": "[encoded data removed]",
      "text/plain": [
       "<Figure size 432x288 with 1 Axes>"
      ]
     },
     "metadata": {
      "needs_background": "light"
     },
     "output_type": "display_data"
    }
   ],
   "source": [
    "disease_vs_state_plt = sns.countplot(x='disease', hue='state', data=data_cleaned)"
   ]
  },
  {
   "cell_type": "code",
   "execution_count": 1807,
   "metadata": {},
   "outputs": [
    {
     "data": {
      "image/png": "[encoded data removed]",
      "text/plain": [
       "<Figure size 432x288 with 1 Axes>"
      ]
     },
     "metadata": {
      "needs_background": "light"
     },
     "output_type": "display_data"
    }
   ],
   "source": [
    "disease_vs_age_plt = sns.countplot(x='age_bin', hue='disease', data=data_cleaned)"
   ]
  },
  {
   "cell_type": "markdown",
   "metadata": {},
   "source": [
    "Clearly as age increases underlying disease increases in population although this virus is not only isolated to person with underlying diseases but it definately increases risk for person dignosed with some past medical conditions. <br>\n",
    "patients without underlying diseases have chances for recovering and released but patient with underlying conditions have negligible chance of surviving."
   ]
  },
  {
   "cell_type": "code",
   "execution_count": 1808,
   "metadata": {},
   "outputs": [],
   "source": [
    "# Removing redundant confirmed date and age columns\n",
    "data_cleaned.drop(['confirmed_date', 'age'], axis=1, inplace=True)"
   ]
  },
  {
   "cell_type": "code",
   "execution_count": 1809,
   "metadata": {},
   "outputs": [
    {
     "data": {
      "text/html": [
       "<div>\n",
       "<style scoped>\n",
       "    .dataframe tbody tr th:only-of-type {\n",
       "        vertical-align: middle;\n",
       "    }\n",
       "\n",
       "    .dataframe tbody tr th {\n",
       "        vertical-align: top;\n",
       "    }\n",
       "\n",
       "    .dataframe thead th {\n",
       "        text-align: right;\n",
       "    }\n",
       "</style>\n",
       "<table border=\"1\" class=\"dataframe\">\n",
       "  <thead>\n",
       "    <tr style=\"text-align: right;\">\n",
       "      <th></th>\n",
       "      <th>sex</th>\n",
       "      <th>country</th>\n",
       "      <th>disease</th>\n",
       "      <th>infection_reason</th>\n",
       "      <th>state</th>\n",
       "      <th>age_bin</th>\n",
       "    </tr>\n",
       "  </thead>\n",
       "  <tbody>\n",
       "    <tr>\n",
       "      <th>0</th>\n",
       "      <td>female</td>\n",
       "      <td>China</td>\n",
       "      <td>0.0</td>\n",
       "      <td>visit to Wuhan</td>\n",
       "      <td>released</td>\n",
       "      <td>30.0</td>\n",
       "    </tr>\n",
       "    <tr>\n",
       "      <th>1</th>\n",
       "      <td>male</td>\n",
       "      <td>Korea</td>\n",
       "      <td>0.0</td>\n",
       "      <td>visit to Wuhan</td>\n",
       "      <td>released</td>\n",
       "      <td>50.0</td>\n",
       "    </tr>\n",
       "    <tr>\n",
       "      <th>2</th>\n",
       "      <td>male</td>\n",
       "      <td>Korea</td>\n",
       "      <td>0.0</td>\n",
       "      <td>visit to Wuhan</td>\n",
       "      <td>released</td>\n",
       "      <td>50.0</td>\n",
       "    </tr>\n",
       "    <tr>\n",
       "      <th>3</th>\n",
       "      <td>male</td>\n",
       "      <td>Korea</td>\n",
       "      <td>0.0</td>\n",
       "      <td>visit to Wuhan</td>\n",
       "      <td>released</td>\n",
       "      <td>50.0</td>\n",
       "    </tr>\n",
       "    <tr>\n",
       "      <th>4</th>\n",
       "      <td>male</td>\n",
       "      <td>Korea</td>\n",
       "      <td>0.0</td>\n",
       "      <td>visit to Wuhan</td>\n",
       "      <td>released</td>\n",
       "      <td>30.0</td>\n",
       "    </tr>\n",
       "  </tbody>\n",
       "</table>\n",
       "</div>"
      ],
      "text/plain": [
       "      sex country  disease infection_reason     state  age_bin\n",
       "0  female   China      0.0   visit to Wuhan  released     30.0\n",
       "1    male   Korea      0.0   visit to Wuhan  released     50.0\n",
       "2    male   Korea      0.0   visit to Wuhan  released     50.0\n",
       "3    male   Korea      0.0   visit to Wuhan  released     50.0\n",
       "4    male   Korea      0.0   visit to Wuhan  released     30.0"
      ]
     },
     "execution_count": 1809,
     "metadata": {},
     "output_type": "execute_result"
    }
   ],
   "source": [
    "data_cleaned.head()"
   ]
  },
  {
   "cell_type": "markdown",
   "metadata": {},
   "source": [
    "This Sums up our analysis of the Coronavirus data after analyising and cleaning data there is not much useful data left for us.\n",
    "I cannot see any scope of feature engineering and make more usefull feature but if you think there is any new useful feature hiding in plain sight just let me know ;)"
   ]
  },
  {
   "cell_type": "markdown",
   "metadata": {},
   "source": [
    "# Predicting State"
   ]
  },
  {
   "cell_type": "markdown",
   "metadata": {},
   "source": [
    "Now we will try to develop a predictive model to predict whether patinet should be released, isolated or should provided intensive care(can die if predicted deceased and not yet dead).\n",
    "<br>\n",
    "We don't have much data to play around so we will split 80-20 data in train and test set. as data is not uniformely distributed we will use stratified split"
   ]
  },
  {
   "cell_type": "code",
   "execution_count": 1810,
   "metadata": {},
   "outputs": [],
   "source": [
    "target = data_cleaned['state']"
   ]
  },
  {
   "cell_type": "code",
   "execution_count": 1811,
   "metadata": {},
   "outputs": [
    {
     "name": "stdout",
     "output_type": "stream",
     "text": [
      "0    released\n",
      "1    released\n",
      "2    released\n",
      "3    released\n",
      "4    released\n",
      "Name: state, dtype: object \n",
      " (430,)\n"
     ]
    }
   ],
   "source": [
    "print(target.head(),'\\n',  target.shape)"
   ]
  },
  {
   "cell_type": "code",
   "execution_count": 1812,
   "metadata": {},
   "outputs": [],
   "source": [
    "features = data_cleaned.drop('state', axis=1)"
   ]
  },
  {
   "cell_type": "code",
   "execution_count": 1813,
   "metadata": {},
   "outputs": [
    {
     "name": "stdout",
     "output_type": "stream",
     "text": [
      "      sex country  disease infection_reason  age_bin\n",
      "0  female   China      0.0   visit to Wuhan     30.0\n",
      "1    male   Korea      0.0   visit to Wuhan     50.0\n",
      "2    male   Korea      0.0   visit to Wuhan     50.0\n",
      "3    male   Korea      0.0   visit to Wuhan     50.0\n",
      "4    male   Korea      0.0   visit to Wuhan     30.0 \n",
      " (430, 5)\n"
     ]
    }
   ],
   "source": [
    "print(features.head(), '\\n',  features.shape)"
   ]
  },
  {
   "cell_type": "code",
   "execution_count": 1904,
   "metadata": {},
   "outputs": [],
   "source": [
    "x_train, x_test, y_train, y_test = train_test_split(features, target, test_size=0.20, stratify=target, random_state=42)"
   ]
  },
  {
   "cell_type": "code",
   "execution_count": 1905,
   "metadata": {},
   "outputs": [
    {
     "data": {
      "text/plain": [
       "(344, 5)"
      ]
     },
     "execution_count": 1905,
     "metadata": {},
     "output_type": "execute_result"
    }
   ],
   "source": [
    "x_train.shape"
   ]
  },
  {
   "cell_type": "code",
   "execution_count": 1906,
   "metadata": {},
   "outputs": [
    {
     "data": {
      "text/plain": [
       "(86, 5)"
      ]
     },
     "execution_count": 1906,
     "metadata": {},
     "output_type": "execute_result"
    }
   ],
   "source": [
    "x_test.shape"
   ]
  },
  {
   "cell_type": "markdown",
   "metadata": {},
   "source": [
    "<h3> Encoding & Scaling </h3>\n",
    "Now we will convert categorical data to Onehotencoding along with scaling it."
   ]
  },
  {
   "cell_type": "code",
   "execution_count": 1907,
   "metadata": {},
   "outputs": [],
   "source": [
    "ohe = ce.OneHotEncoder()"
   ]
  },
  {
   "cell_type": "code",
   "execution_count": 1908,
   "metadata": {},
   "outputs": [],
   "source": [
    "sc = RobustScaler()"
   ]
  },
  {
   "cell_type": "code",
   "execution_count": 1909,
   "metadata": {},
   "outputs": [],
   "source": [
    "pipe = Pipeline(steps=[('ohe', ohe)])"
   ]
  },
  {
   "cell_type": "code",
   "execution_count": 1910,
   "metadata": {},
   "outputs": [],
   "source": [
    "x_train = pipe.fit_transform(x_train)"
   ]
  },
  {
   "cell_type": "code",
   "execution_count": 1911,
   "metadata": {},
   "outputs": [],
   "source": [
    "x_test = pipe.transform(x_test)"
   ]
  },
  {
   "cell_type": "markdown",
   "metadata": {},
   "source": [
    "<h3>Model</h3>\n",
    "We will fit a classification model to predict state of the patient."
   ]
  },
  {
   "cell_type": "markdown",
   "metadata": {},
   "source": [
    "<h5>Logistic Regression</h5>\n",
    "Let's start with a simple logistic regression."
   ]
  },
  {
   "cell_type": "code",
   "execution_count": 1912,
   "metadata": {},
   "outputs": [],
   "source": [
    "rf = LogisticRegression()"
   ]
  },
  {
   "cell_type": "code",
   "execution_count": 1913,
   "metadata": {},
   "outputs": [],
   "source": [
    "grid_param = {'C': [1.0, 1.2, 1.3],\n",
    "             'fit_intercept': [True, False], \n",
    "             'solver': ['newton-cg', 'liblinear', 'lbfgs'],\n",
    "             'tol': [1e-3, 1e-4],\n",
    "             'max_iter': [100, 200, 500]}"
   ]
  },
  {
   "cell_type": "code",
   "execution_count": 1914,
   "metadata": {},
   "outputs": [],
   "source": [
    "grid = GridSearchCV(rf, grid_param, scoring='accuracy', n_jobs=-1, cv=5)"
   ]
  },
  {
   "cell_type": "code",
   "execution_count": 1915,
   "metadata": {},
   "outputs": [
    {
     "data": {
      "text/plain": [
       "GridSearchCV(cv=5, error_score=nan,\n",
       "             estimator=LogisticRegression(C=1.0, class_weight=None, dual=False,\n",
       "                                          fit_intercept=True,\n",
       "                                          intercept_scaling=1, l1_ratio=None,\n",
       "                                          max_iter=100, multi_class='auto',\n",
       "                                          n_jobs=None, penalty='l2',\n",
       "                                          random_state=None, solver='lbfgs',\n",
       "                                          tol=0.0001, verbose=0,\n",
       "                                          warm_start=False),\n",
       "             iid='deprecated', n_jobs=-1,\n",
       "             param_grid={'C': [1.0, 1.2, 1.3], 'fit_intercept': [True, False],\n",
       "                         'max_iter': [100, 200, 500],\n",
       "                         'solver': ['newton-cg', 'liblinear', 'lbfgs'],\n",
       "                         'tol': [0.001, 0.0001]},\n",
       "             pre_dispatch='2*n_jobs', refit=True, return_train_score=False,\n",
       "             scoring='accuracy', verbose=0)"
      ]
     },
     "execution_count": 1915,
     "metadata": {},
     "output_type": "execute_result"
    }
   ],
   "source": [
    "grid.fit(x_train, y_train)"
   ]
  },
  {
   "cell_type": "code",
   "execution_count": 1916,
   "metadata": {},
   "outputs": [
    {
     "data": {
      "text/plain": [
       "0.872080136402387"
      ]
     },
     "execution_count": 1916,
     "metadata": {},
     "output_type": "execute_result"
    }
   ],
   "source": [
    "grid.best_score_"
   ]
  },
  {
   "cell_type": "code",
   "execution_count": 1917,
   "metadata": {},
   "outputs": [
    {
     "data": {
      "text/plain": [
       "{'C': 1.0,\n",
       " 'fit_intercept': True,\n",
       " 'max_iter': 100,\n",
       " 'solver': 'newton-cg',\n",
       " 'tol': 0.001}"
      ]
     },
     "execution_count": 1917,
     "metadata": {},
     "output_type": "execute_result"
    }
   ],
   "source": [
    "grid.best_params_"
   ]
  },
  {
   "cell_type": "code",
   "execution_count": 1918,
   "metadata": {},
   "outputs": [],
   "source": [
    "model = grid.best_estimator_"
   ]
  },
  {
   "cell_type": "code",
   "execution_count": 1919,
   "metadata": {},
   "outputs": [],
   "source": [
    "y_pred = model.predict(x_test)"
   ]
  },
  {
   "cell_type": "code",
   "execution_count": 1920,
   "metadata": {},
   "outputs": [],
   "source": [
    "report = pd.DataFrame(classification_report(y_test, y_pred, output_dict=True))"
   ]
  },
  {
   "cell_type": "code",
   "execution_count": 1921,
   "metadata": {},
   "outputs": [
    {
     "data": {
      "text/html": [
       "<div>\n",
       "<style scoped>\n",
       "    .dataframe tbody tr th:only-of-type {\n",
       "        vertical-align: middle;\n",
       "    }\n",
       "\n",
       "    .dataframe tbody tr th {\n",
       "        vertical-align: top;\n",
       "    }\n",
       "\n",
       "    .dataframe thead th {\n",
       "        text-align: right;\n",
       "    }\n",
       "</style>\n",
       "<table border=\"1\" class=\"dataframe\">\n",
       "  <thead>\n",
       "    <tr style=\"text-align: right;\">\n",
       "      <th></th>\n",
       "      <th>deceased</th>\n",
       "      <th>isolated</th>\n",
       "      <th>released</th>\n",
       "      <th>accuracy</th>\n",
       "      <th>macro avg</th>\n",
       "      <th>weighted avg</th>\n",
       "    </tr>\n",
       "  </thead>\n",
       "  <tbody>\n",
       "    <tr>\n",
       "      <th>precision</th>\n",
       "      <td>1.0</td>\n",
       "      <td>0.930556</td>\n",
       "      <td>0.750000</td>\n",
       "      <td>0.918605</td>\n",
       "      <td>0.893519</td>\n",
       "      <td>0.912306</td>\n",
       "    </tr>\n",
       "    <tr>\n",
       "      <th>recall</th>\n",
       "      <td>1.0</td>\n",
       "      <td>0.971014</td>\n",
       "      <td>0.545455</td>\n",
       "      <td>0.918605</td>\n",
       "      <td>0.838823</td>\n",
       "      <td>0.918605</td>\n",
       "    </tr>\n",
       "    <tr>\n",
       "      <th>f1-score</th>\n",
       "      <td>1.0</td>\n",
       "      <td>0.950355</td>\n",
       "      <td>0.631579</td>\n",
       "      <td>0.918605</td>\n",
       "      <td>0.860645</td>\n",
       "      <td>0.913045</td>\n",
       "    </tr>\n",
       "    <tr>\n",
       "      <th>support</th>\n",
       "      <td>6.0</td>\n",
       "      <td>69.000000</td>\n",
       "      <td>11.000000</td>\n",
       "      <td>0.918605</td>\n",
       "      <td>86.000000</td>\n",
       "      <td>86.000000</td>\n",
       "    </tr>\n",
       "  </tbody>\n",
       "</table>\n",
       "</div>"
      ],
      "text/plain": [
       "           deceased   isolated   released  accuracy  macro avg  weighted avg\n",
       "precision       1.0   0.930556   0.750000  0.918605   0.893519      0.912306\n",
       "recall          1.0   0.971014   0.545455  0.918605   0.838823      0.918605\n",
       "f1-score        1.0   0.950355   0.631579  0.918605   0.860645      0.913045\n",
       "support         6.0  69.000000  11.000000  0.918605  86.000000     86.000000"
      ]
     },
     "execution_count": 1921,
     "metadata": {},
     "output_type": "execute_result"
    }
   ],
   "source": [
    "report"
   ]
  },
  {
   "cell_type": "code",
   "execution_count": 1922,
   "metadata": {},
   "outputs": [],
   "source": [
    "confusion_mat = confusion_matrix(y_test, y_pred)"
   ]
  },
  {
   "cell_type": "code",
   "execution_count": 1923,
   "metadata": {},
   "outputs": [
    {
     "data": {
      "text/plain": [
       "array([[ 6,  0,  0],\n",
       "       [ 0, 67,  2],\n",
       "       [ 0,  5,  6]], dtype=int64)"
      ]
     },
     "execution_count": 1923,
     "metadata": {},
     "output_type": "execute_result"
    }
   ],
   "source": [
    "confusion_mat"
   ]
  },
  {
   "cell_type": "code",
   "execution_count": 1924,
   "metadata": {},
   "outputs": [
    {
     "data": {
      "image/png": "[encoded data removed]",
      "text/plain": [
       "<Figure size 432x288 with 2 Axes>"
      ]
     },
     "metadata": {
      "needs_background": "light"
     },
     "output_type": "display_data"
    }
   ],
   "source": [
    "conf_mat = sns.heatmap(confusion_mat, square=True, vmax= 15, vmin=4, annot=True, cmap='YlGnBu')"
   ]
  },
  {
   "cell_type": "markdown",
   "metadata": {},
   "source": [
    "Now we can succesfully predict whether a person will be isolated, released or have chances of dying due to virus.<br>\n",
    "This model can be useful to predict how much care a patient requires along with chances of whether patient can be released in futire or not.\n",
    "<br>\n",
    "This is not at all meant for production but rather a simple model to beat hurestic of whether an individual can be released or not."
   ]
  },
  {
   "cell_type": "code",
   "execution_count": null,
   "metadata": {},
   "outputs": [],
   "source": []
  }
 ],
 "metadata": {
  "kernelspec": {
   "display_name": "Python 3",
   "language": "python",
   "name": "python3"
  },
  "language_info": {
   "codemirror_mode": {
    "name": "ipython",
    "version": 3
   },
   "file_extension": ".py",
   "mimetype": "text/x-python",
   "name": "python",
   "nbconvert_exporter": "python",
   "pygments_lexer": "ipython3",
   "version": "3.7.6"
  }
 },
 "nbformat": 4,
 "nbformat_minor": 4
}
